{
 "cells": [
  {
   "cell_type": "code",
   "execution_count": 4,
   "metadata": {},
   "outputs": [],
   "source": [
    "import pandas as pd\n",
    "import numpy as np\n",
    "import matplotlib.pyplot as plt\n",
    "from sklearn.model_selection import train_test_split\n",
    "from sklearn.preprocessing import LabelEncoder, StandardScaler\n",
    "from sklearn.metrics import accuracy_score, confusion_matrix, classification_report, roc_curve, auc\n",
    "from xgboost import XGBClassifier  # Import XGBoost\n",
    "from keras.models import Sequential\n",
    "from keras.layers import Dense\n",
    "from keras.optimizers import Adam\n",
    "from keras.callbacks import EarlyStopping\n",
    "from keras.utils import to_categorical"
   ]
  },
  {
   "cell_type": "code",
   "execution_count": 5,
   "metadata": {},
   "outputs": [],
   "source": [
    "# Load the dataset from CSV\n",
    "data = pd.read_csv('cleaned_balanced_dataset.csv')\n",
    "\n",
    "# Encode the 'diagnosis' column (Malignant -> 1, Benign -> 0)\n",
    "label_encoder = LabelEncoder()\n",
    "data['diagnosis'] = label_encoder.fit_transform(data['diagnosis'])\n",
    "\n",
    "# Handle missing values (impute with mean)\n",
    "data = data.fillna(data.mean())\n",
    "\n",
    "# Check for Infinity and replace with finite values\n",
    "data = data.replace([np.inf, -np.inf], np.nan)\n",
    "data = data.fillna(0)  # You can choose a different value for replacement if needed"
   ]
  },
  {
   "cell_type": "code",
   "execution_count": 6,
   "metadata": {},
   "outputs": [],
   "source": [
    "# Split the dataset into features (X) and labels (y)\n",
    "X = data.drop(['id', 'diagnosis'], axis=1)\n",
    "y = data['diagnosis']"
   ]
  },
  {
   "cell_type": "code",
   "execution_count": 7,
   "metadata": {},
   "outputs": [],
   "source": [
    "# Use XGBoost for feature selection\n",
    "xgb = XGBClassifier()\n",
    "xgb.fit(X, y)\n",
    "feature_importances = xgb.feature_importances_\n",
    "indices = np.argsort(feature_importances)[::-1]\n",
    "selected_indices = indices[:10]  # Select the top 10 features"
   ]
  },
  {
   "cell_type": "code",
   "execution_count": 8,
   "metadata": {},
   "outputs": [],
   "source": [
    "\n",
    "# Select only the top features\n",
    "X = X.iloc[:, selected_indices]"
   ]
  },
  {
   "cell_type": "code",
   "execution_count": 9,
   "metadata": {},
   "outputs": [],
   "source": [
    "# Standardize the features\n",
    "scaler = StandardScaler()\n",
    "X = scaler.fit_transform(X)"
   ]
  },
  {
   "cell_type": "code",
   "execution_count": 10,
   "metadata": {},
   "outputs": [],
   "source": [
    "\n",
    "# Split data into training and testing sets\n",
    "X_train, X_test, y_train, y_test = train_test_split(X, y, test_size=0.2, random_state=42)"
   ]
  },
  {
   "cell_type": "code",
   "execution_count": 11,
   "metadata": {},
   "outputs": [],
   "source": [
    "# Create a deep learning model\n",
    "model = Sequential()\n",
    "model.add(Dense(units=64, activation='relu', input_dim=X_train.shape[1]))\n",
    "model.add(Dense(units=32, activation='relu'))\n",
    "model.add(Dense(units=1, activation='sigmoid'))"
   ]
  },
  {
   "cell_type": "code",
   "execution_count": 12,
   "metadata": {},
   "outputs": [],
   "source": [
    "\n",
    "# Compile the model\n",
    "model.compile(optimizer=Adam(learning_rate=0.001), loss='binary_crossentropy', metrics=['accuracy'])"
   ]
  },
  {
   "cell_type": "code",
   "execution_count": 13,
   "metadata": {},
   "outputs": [],
   "source": [
    "# Early stopping to prevent overfitting\n",
    "early_stopping = EarlyStopping(monitor='val_loss', patience=10, restore_best_weights=True)"
   ]
  },
  {
   "cell_type": "code",
   "execution_count": 14,
   "metadata": {},
   "outputs": [
    {
     "name": "stdout",
     "output_type": "stream",
     "text": [
      "Epoch 1/100\n",
      "9/9 [==============================] - 1s 48ms/step - loss: 0.6517 - accuracy: 0.6494 - val_loss: 0.5477 - val_accuracy: 0.8235\n",
      "Epoch 2/100\n",
      "9/9 [==============================] - 0s 14ms/step - loss: 0.4383 - accuracy: 0.8893 - val_loss: 0.4143 - val_accuracy: 0.8971\n",
      "Epoch 3/100\n",
      "9/9 [==============================] - 0s 10ms/step - loss: 0.3228 - accuracy: 0.9188 - val_loss: 0.3407 - val_accuracy: 0.8971\n",
      "Epoch 4/100\n",
      "9/9 [==============================] - 0s 11ms/step - loss: 0.2554 - accuracy: 0.9262 - val_loss: 0.2912 - val_accuracy: 0.8971\n",
      "Epoch 5/100\n",
      "9/9 [==============================] - 0s 9ms/step - loss: 0.2114 - accuracy: 0.9336 - val_loss: 0.2528 - val_accuracy: 0.9118\n",
      "Epoch 6/100\n",
      "9/9 [==============================] - 0s 12ms/step - loss: 0.1809 - accuracy: 0.9446 - val_loss: 0.2234 - val_accuracy: 0.9118\n",
      "Epoch 7/100\n",
      "9/9 [==============================] - 0s 10ms/step - loss: 0.1586 - accuracy: 0.9446 - val_loss: 0.2010 - val_accuracy: 0.9118\n",
      "Epoch 8/100\n",
      "9/9 [==============================] - 0s 12ms/step - loss: 0.1420 - accuracy: 0.9520 - val_loss: 0.1818 - val_accuracy: 0.9265\n",
      "Epoch 9/100\n",
      "9/9 [==============================] - 0s 10ms/step - loss: 0.1294 - accuracy: 0.9520 - val_loss: 0.1649 - val_accuracy: 0.9265\n",
      "Epoch 10/100\n",
      "9/9 [==============================] - 0s 9ms/step - loss: 0.1192 - accuracy: 0.9520 - val_loss: 0.1518 - val_accuracy: 0.9265\n",
      "Epoch 11/100\n",
      "9/9 [==============================] - 0s 10ms/step - loss: 0.1117 - accuracy: 0.9557 - val_loss: 0.1400 - val_accuracy: 0.9265\n",
      "Epoch 12/100\n",
      "9/9 [==============================] - 0s 10ms/step - loss: 0.1047 - accuracy: 0.9557 - val_loss: 0.1310 - val_accuracy: 0.9412\n",
      "Epoch 13/100\n",
      "9/9 [==============================] - 0s 12ms/step - loss: 0.0989 - accuracy: 0.9594 - val_loss: 0.1235 - val_accuracy: 0.9412\n",
      "Epoch 14/100\n",
      "9/9 [==============================] - 0s 10ms/step - loss: 0.0936 - accuracy: 0.9594 - val_loss: 0.1173 - val_accuracy: 0.9412\n",
      "Epoch 15/100\n",
      "9/9 [==============================] - 0s 10ms/step - loss: 0.0891 - accuracy: 0.9594 - val_loss: 0.1117 - val_accuracy: 0.9559\n",
      "Epoch 16/100\n",
      "9/9 [==============================] - 0s 10ms/step - loss: 0.0848 - accuracy: 0.9705 - val_loss: 0.1076 - val_accuracy: 0.9559\n",
      "Epoch 17/100\n",
      "9/9 [==============================] - 0s 11ms/step - loss: 0.0809 - accuracy: 0.9705 - val_loss: 0.1037 - val_accuracy: 0.9559\n",
      "Epoch 18/100\n",
      "9/9 [==============================] - 0s 10ms/step - loss: 0.0771 - accuracy: 0.9742 - val_loss: 0.1024 - val_accuracy: 0.9559\n",
      "Epoch 19/100\n",
      "9/9 [==============================] - 0s 9ms/step - loss: 0.0742 - accuracy: 0.9779 - val_loss: 0.1009 - val_accuracy: 0.9559\n",
      "Epoch 20/100\n",
      "9/9 [==============================] - 0s 10ms/step - loss: 0.0712 - accuracy: 0.9742 - val_loss: 0.0994 - val_accuracy: 0.9559\n",
      "Epoch 21/100\n",
      "9/9 [==============================] - 0s 9ms/step - loss: 0.0685 - accuracy: 0.9742 - val_loss: 0.0978 - val_accuracy: 0.9559\n",
      "Epoch 22/100\n",
      "9/9 [==============================] - 0s 12ms/step - loss: 0.0656 - accuracy: 0.9742 - val_loss: 0.0957 - val_accuracy: 0.9559\n",
      "Epoch 23/100\n",
      "9/9 [==============================] - 0s 10ms/step - loss: 0.0633 - accuracy: 0.9742 - val_loss: 0.0941 - val_accuracy: 0.9559\n",
      "Epoch 24/100\n",
      "9/9 [==============================] - 0s 11ms/step - loss: 0.0609 - accuracy: 0.9815 - val_loss: 0.0933 - val_accuracy: 0.9559\n",
      "Epoch 25/100\n",
      "9/9 [==============================] - 0s 8ms/step - loss: 0.0587 - accuracy: 0.9815 - val_loss: 0.0929 - val_accuracy: 0.9559\n",
      "Epoch 26/100\n",
      "9/9 [==============================] - 0s 12ms/step - loss: 0.0566 - accuracy: 0.9852 - val_loss: 0.0931 - val_accuracy: 0.9559\n",
      "Epoch 27/100\n",
      "9/9 [==============================] - 0s 12ms/step - loss: 0.0546 - accuracy: 0.9852 - val_loss: 0.0956 - val_accuracy: 0.9559\n",
      "Epoch 28/100\n",
      "9/9 [==============================] - 0s 9ms/step - loss: 0.0528 - accuracy: 0.9852 - val_loss: 0.0977 - val_accuracy: 0.9559\n",
      "Epoch 29/100\n",
      "9/9 [==============================] - 0s 9ms/step - loss: 0.0510 - accuracy: 0.9852 - val_loss: 0.0977 - val_accuracy: 0.9559\n",
      "Epoch 30/100\n",
      "9/9 [==============================] - 0s 11ms/step - loss: 0.0492 - accuracy: 0.9852 - val_loss: 0.0986 - val_accuracy: 0.9559\n",
      "Epoch 31/100\n",
      "9/9 [==============================] - 0s 8ms/step - loss: 0.0476 - accuracy: 0.9852 - val_loss: 0.0976 - val_accuracy: 0.9559\n",
      "Epoch 32/100\n",
      "9/9 [==============================] - 0s 13ms/step - loss: 0.0468 - accuracy: 0.9852 - val_loss: 0.1001 - val_accuracy: 0.9559\n",
      "Epoch 33/100\n",
      "9/9 [==============================] - 0s 9ms/step - loss: 0.0447 - accuracy: 0.9852 - val_loss: 0.1011 - val_accuracy: 0.9559\n",
      "Epoch 34/100\n",
      "9/9 [==============================] - 0s 11ms/step - loss: 0.0433 - accuracy: 0.9852 - val_loss: 0.1024 - val_accuracy: 0.9559\n",
      "Epoch 35/100\n",
      "9/9 [==============================] - 0s 11ms/step - loss: 0.0426 - accuracy: 0.9852 - val_loss: 0.1046 - val_accuracy: 0.9559\n"
     ]
    }
   ],
   "source": [
    "# Train the model\n",
    "history = model.fit(X_train, y_train, epochs=100, batch_size=32, validation_split=0.2, callbacks=[early_stopping], verbose=1)"
   ]
  },
  {
   "cell_type": "code",
   "execution_count": 15,
   "metadata": {},
   "outputs": [
    {
     "name": "stdout",
     "output_type": "stream",
     "text": [
      "3/3 [==============================] - 0s 2ms/step\n"
     ]
    }
   ],
   "source": [
    "# Evaluate the model on the test set\n",
    "y_pred = model.predict(X_test)\n",
    "y_pred = (y_pred > 0.5)"
   ]
  },
  {
   "cell_type": "code",
   "execution_count": 16,
   "metadata": {},
   "outputs": [
    {
     "name": "stdout",
     "output_type": "stream",
     "text": [
      "Overall Accuracy: 0.95\n"
     ]
    }
   ],
   "source": [
    "# Calculate overall accuracy\n",
    "accuracy = accuracy_score(y_test, y_pred)\n",
    "print(f'Overall Accuracy: {accuracy:.2f}')"
   ]
  },
  {
   "cell_type": "code",
   "execution_count": 17,
   "metadata": {},
   "outputs": [
    {
     "name": "stdout",
     "output_type": "stream",
     "text": [
      "Confusion Matrix:\n",
      "[[37  2]\n",
      " [ 2 44]]\n"
     ]
    }
   ],
   "source": [
    "# Generate confusion matrix\n",
    "confusion = confusion_matrix(y_test, y_pred)\n",
    "print('Confusion Matrix:')\n",
    "print(confusion)"
   ]
  },
  {
   "cell_type": "code",
   "execution_count": 18,
   "metadata": {},
   "outputs": [
    {
     "name": "stdout",
     "output_type": "stream",
     "text": [
      "Classification Report:\n",
      "              precision    recall  f1-score   support\n",
      "\n",
      "           0       0.95      0.95      0.95        39\n",
      "           1       0.96      0.96      0.96        46\n",
      "\n",
      "    accuracy                           0.95        85\n",
      "   macro avg       0.95      0.95      0.95        85\n",
      "weighted avg       0.95      0.95      0.95        85\n",
      "\n"
     ]
    }
   ],
   "source": [
    "# Generate classification report\n",
    "print('Classification Report:')\n",
    "print(classification_report(y_test, y_pred))"
   ]
  },
  {
   "cell_type": "code",
   "execution_count": 19,
   "metadata": {},
   "outputs": [
    {
     "name": "stdout",
     "output_type": "stream",
     "text": [
      "Classification Report:\n",
      "              precision    recall  f1-score   support\n",
      "\n",
      "           0       0.95      0.95      0.95        39\n",
      "           1       0.96      0.96      0.96        46\n",
      "\n",
      "    accuracy                           0.95        85\n",
      "   macro avg       0.95      0.95      0.95        85\n",
      "weighted avg       0.95      0.95      0.95        85\n",
      "\n"
     ]
    }
   ],
   "source": [
    "# Generate classification report\n",
    "print('Classification Report:')\n",
    "print(classification_report(y_test, y_pred))"
   ]
  },
  {
   "cell_type": "code",
   "execution_count": 20,
   "metadata": {},
   "outputs": [
    {
     "name": "stdout",
     "output_type": "stream",
     "text": [
      "ROC AUC: 0.95\n"
     ]
    }
   ],
   "source": [
    "# Generate ROC curve and calculate AUC\n",
    "fpr, tpr, thresholds = roc_curve(y_test, y_pred)\n",
    "roc_auc = auc(fpr, tpr)\n",
    "print(f'ROC AUC: {roc_auc:.2f}')\n"
   ]
  },
  {
   "cell_type": "code",
   "execution_count": 21,
   "metadata": {},
   "outputs": [
    {
     "data": {
      "image/png": "[encoded data removed]",
      "text/plain": [
       "<Figure size 720x360 with 1 Axes>"
      ]
     },
     "metadata": {
      "needs_background": "light"
     },
     "output_type": "display_data"
    }
   ],
   "source": [
    "# Plot training and validation accuracy curves\n",
    "plt.figure(figsize=(10, 5))\n",
    "plt.plot(history.history['accuracy'], label='Training Accuracy')\n",
    "plt.plot(history.history['val_accuracy'], label='Validation Accuracy')\n",
    "plt.title('Training and Validation Accuracy')\n",
    "plt.xlabel('Epoch')\n",
    "plt.ylabel('Accuracy')\n",
    "plt.legend()\n",
    "plt.show()"
   ]
  },
  {
   "cell_type": "code",
   "execution_count": 22,
   "metadata": {},
   "outputs": [
    {
     "data": {
      "image/png": "[encoded data removed]",
      "text/plain": [
       "<Figure size 432x432 with 1 Axes>"
      ]
     },
     "metadata": {
      "needs_background": "light"
     },
     "output_type": "display_data"
    }
   ],
   "source": [
    "# Plot confusion matrix\n",
    "import seaborn as sns\n",
    "plt.figure(figsize=(6, 6))\n",
    "sns.heatmap(confusion, annot=True, fmt='d', cmap='Blues', cbar=False, square=True)\n",
    "plt.xlabel('Predicted')\n",
    "plt.ylabel('Actual')\n",
    "plt.title('Confusion Matrix')\n",
    "plt.show()"
   ]
  },
  {
   "cell_type": "code",
   "execution_count": 23,
   "metadata": {},
   "outputs": [
    {
     "data": {
      "image/png": "[encoded data removed]",
      "text/plain": [
       "<Figure size 576x432 with 1 Axes>"
      ]
     },
     "metadata": {
      "needs_background": "light"
     },
     "output_type": "display_data"
    }
   ],
   "source": [
    "# Plot ROC curve\n",
    "plt.figure(figsize=(8, 6))\n",
    "plt.plot(fpr, tpr, color='darkorange', lw=2, label='ROC curve (area = {:.2f})'.format(roc_auc))\n",
    "plt.plot([0, 1], [0, 1], color='navy', lw=2, linestyle='--')\n",
    "plt.xlim([0.0, 1.0])\n",
    "plt.ylim([0.0, 1.05])\n",
    "plt.xlabel('False Positive Rate')\n",
    "plt.ylabel('True Positive Rate')\n",
    "plt.title('Receiver Operating Characteristic')\n",
    "plt.legend(loc='lower right')\n",
    "plt.show()\n"
   ]
  }
 ],
 "metadata": {
  "kernelspec": {
   "display_name": "base",
   "language": "python",
   "name": "python3"
  },
  "language_info": {
   "codemirror_mode": {
    "name": "ipython",
    "version": 3
   },
   "file_extension": ".py",
   "mimetype": "text/x-python",
   "name": "python",
   "nbconvert_exporter": "python",
   "pygments_lexer": "ipython3",
   "version": "3.7.3"
  }
 },
 "nbformat": 4,
 "nbformat_minor": 2
}
